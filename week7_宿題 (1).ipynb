{
 "cells": [
  {
   "cell_type": "markdown",
   "metadata": {
    "id": "1cb2BshH6S5f"
   },
   "source": [
    "## Homework6\n",
    "時系列データを含むデータベースファイル (data.sqlite3) に含まれるデータについて、goods_genre_id ごとに price の平均値を求めてください。時系列データには goods_genre_id の情報は含まれていないので、複数のテーブルを組み合わせて処理する必要があります。  \n",
    "データの詳細は以下を参照してください。"
   ]
  },
  {
   "cell_type": "markdown",
   "metadata": {
    "id": "H8NZ-WCP6S5g"
   },
   "source": [
    "### データ一覧\n",
    "今回与えられるデータは data.sqlite3 という sqlite3 形式のデータです。\n",
    "以下の 2 つのテーブルが含まれています。\n",
    "* data ... 時系列データ\n",
    "* goods ... 商品に関する補足情報\n",
    "\n",
    "### カラム情報一覧\n",
    "データに含まれるカラムの情報は以下です。\n",
    "* index ... (店舗, 商品) の各組み合わせに対して割り振られるID\n",
    "* store_id ... 店舗ID\n",
    "* goods_id ... 商品ID\n",
    "* goods_genre_id ... 商品カテゴリID\n",
    "* units_sold_day ... 商品の一日の売り上げ個数\n",
    "* units_sold_month ... 商品のひと月の売り上げ個数\n",
    "* price ... 商品の現在の値段\n",
    "* yy-mm-dd ... 日付 (yy/mm/dd形式)\n",
    "* num_month ... 便宜上各月にわりふられた値 (平成25年1月=1, 平成25年2月=2,...,平成27年9月=33)\n",
    "* goods_name ... 商品名\n",
    "* store_name ... 店舗名\n",
    "* goods_genre_name ... 商品カテゴリ名\n",
    "\n",
    "### 注意事項\n",
    "- データ処理はSQLiteでの操作を推奨します。補足資料「SQLite_manual.pdf」「SQLite_manual.ipynb」を参照ください。\n",
    "- SQLiteのインストール/ダウンロードが上手くいかない場合、python上での操作も可能です。補足資料「csv_export_python.pdf」「csv_export_python.ipynb」を参照ください。\n",
    "- 一部の処理に時間がかかる場合があります。\n",
    "\n",
    "### 提出/採点\n",
    "回答は**Omnicampus**上で提出してください。提出するデータの形式は以下のような**csvファイル**となります。\n",
    " \n",
    "goods_genre_id|avg_price\n",
    "---|---\n",
    "1|25000\n",
    "3|26500\n",
    "4|25000\n",
    "…|…\n",
    "196|20000\n",
    "200|27000\n",
    "\n",
    "\n",
    "提出ファイルがこの形式に準じていなかった場合にはスコアが1000となるので、その際はファイル形式を確認しましょう。  "
   ]
  },
  {
   "cell_type": "code",
   "execution_count": 1,
   "metadata": {},
   "outputs": [
    {
     "name": "stdout",
     "output_type": "stream",
     "text": [
      "The average prices by genre have been saved to 'average_prices_by_genre.csv'\n"
     ]
    }
   ],
   "source": [
    "import sqlite3\n",
    "import csv\n",
    "conn = sqlite3.connect('/home/ubuntu/work/data.sqlite3')\n",
    "cursor = conn.cursor()\n",
    "# SQL クエリを実行\n",
    "query = '''\n",
    "    SELECT g.goods_genre_id, AVG(d.price) AS avg_price\n",
    "    FROM data d\n",
    "    JOIN goods g ON d.goods_id = g.goods_id\n",
    "    GROUP BY g.goods_genre_id;\n",
    "'''\n",
    "cursor.execute(query)\n",
    "# 結果を取得\n",
    "rows = cursor.fetchall()\n",
    "# CSVファイルに書き込み\n",
    "with open('/home/ubuntu/work/average_prices_by_genre.csv', 'w', newline='') as file:\n",
    "    writer = csv.writer(file)\n",
    "    # ヘッダー行を書き込む\n",
    "    writer.writerow(['goods_genre_id', 'avg_price'])\n",
    "    # データ行を書き込む\n",
    "    for row in rows:\n",
    "        writer.writerow(row)\n",
    "        # データベース接続を閉じる\n",
    "conn.close()\n",
    "print(\"The average prices by genre have been saved to 'average_prices_by_genre.csv'\")"
   ]
  },
  {
   "cell_type": "code",
   "execution_count": null,
   "metadata": {},
   "outputs": [],
   "source": []
  }
 ],
 "metadata": {
  "colab": {
   "provenance": []
  },
  "interpreter": {
   "hash": "31f2aee4e71d21fbe5cf8b01ff0e069b9275f58929596ceb00d14d90e3e16cd6"
  },
  "kernelspec": {
   "display_name": "Python 3 (ipykernel)",
   "language": "python",
   "name": "python3"
  },
  "language_info": {
   "codemirror_mode": {
    "name": "ipython",
    "version": 3
   },
   "file_extension": ".py",
   "mimetype": "text/x-python",
   "name": "python",
   "nbconvert_exporter": "python",
   "pygments_lexer": "ipython3",
   "version": "3.10.11"
  }
 },
 "nbformat": 4,
 "nbformat_minor": 4
}
